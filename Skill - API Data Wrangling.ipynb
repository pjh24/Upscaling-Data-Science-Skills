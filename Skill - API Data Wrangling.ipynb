{
 "cells": [
  {
   "cell_type": "markdown",
   "metadata": {},
   "source": [
    "This exercise will require you to pull some data from https://data.nasdaq.com/ (formerly Quandl API)."
   ]
  },
  {
   "cell_type": "markdown",
   "metadata": {},
   "source": [
    "As a first step, you will need to register a free account on the https://data.nasdaq.com/ website."
   ]
  },
  {
   "cell_type": "markdown",
   "metadata": {},
   "source": [
    "After you register, you will be provided with a unique API key, that you should store:\n",
    "\n",
    "*Note*: Use a `.env` file and put your key in there and `python-dotenv` to access it in this notebook. \n",
    "\n",
    "The code below uses a key that was used when generating this project but has since been deleted. Never submit your keys to source control. There is a `.env-example` file in this repository to illusrtate what you need. Copy that to a file called `.env` and use your own api key in that `.env` file. Make sure you also have a `.gitignore` file with a line for `.env` added to it. \n",
    "\n",
    "The standard Python gitignore is [here](https://github.com/github/gitignore/blob/master/Python.gitignore) you can just copy that. "
   ]
  },
  {
   "cell_type": "code",
   "execution_count": 1,
   "metadata": {},
   "outputs": [
    {
     "name": "stdout",
     "output_type": "stream",
     "text": [
      "Requirement already satisfied: python-dotenv in /Users/paulhughes/anaconda3/lib/python3.11/site-packages (1.0.0)\r\n"
     ]
    }
   ],
   "source": [
    "!pip install python-dotenv"
   ]
  },
  {
   "cell_type": "code",
   "execution_count": 97,
   "metadata": {},
   "outputs": [],
   "source": [
    "# get api key from your .env file\n",
    "import os\n",
    "from dotenv import load_dotenv\n",
    "\n",
    "load_dotenv()\n",
    "API_KEY = os.getenv('NASDAQ_API_KEY')"
   ]
  },
  {
   "cell_type": "markdown",
   "metadata": {},
   "source": [
    "Nasdaq Data has a large number of data sources, but, unfortunately, most of them require a Premium subscription. Still, there are also a good number of free datasets."
   ]
  },
  {
   "cell_type": "markdown",
   "metadata": {},
   "source": [
    "For this mini project, we will focus on equities data from the Frankfurt Stock Exhange (FSE), which is available for free. We'll try and analyze the stock prices of a company called Carl Zeiss Meditec, which manufactures tools for eye examinations, as well as medical lasers for laser eye surgery: https://www.zeiss.com/meditec/int/home.html. The company is listed under the stock ticker AFX_X."
   ]
  },
  {
   "cell_type": "markdown",
   "metadata": {},
   "source": [
    "You can find the detailed Nasdaq Data API instructions here: https://docs.data.nasdaq.com/docs/in-depth-usage"
   ]
  },
  {
   "cell_type": "markdown",
   "metadata": {},
   "source": [
    "While there is a dedicated Python package for connecting to the Nasdaq API, we would prefer that you use the *requests* package, which can be easily downloaded using *pip* or *conda*. You can find the documentation for the package here: http://docs.python-requests.org/en/master/ "
   ]
  },
  {
   "cell_type": "markdown",
   "metadata": {},
   "source": [
    "Finally, apart from the *requests* package, you are encouraged to not use any third party Python packages, such as *pandas*, and instead focus on what's available in the Python Standard Library (the *collections* module might come in handy: https://pymotw.com/3/collections/).\n",
    "Also, since you won't have access to DataFrames, you are encouraged to us Python's native data structures - preferably dictionaries, though some questions can also be answered using lists.\n",
    "You can read more on these data structures here: https://docs.python.org/3/tutorial/datastructures.html"
   ]
  },
  {
   "cell_type": "markdown",
   "metadata": {},
   "source": [
    "Keep in mind that the JSON responses you will be getting from the API map almost one-to-one to Python's dictionaries. Unfortunately, they can be very nested, so make sure you read up on indexing dictionaries in the documentation provided above."
   ]
  },
  {
   "cell_type": "code",
   "execution_count": 3,
   "metadata": {},
   "outputs": [],
   "source": [
    "# First, import the relevant modules\n",
    "import json \n",
    "import requests "
   ]
  },
  {
   "cell_type": "code",
   "execution_count": 4,
   "metadata": {},
   "outputs": [],
   "source": [
    "# Now, call the Nasdaq API and pull out a small sample of the data (only one day) to get a glimpse\n",
    "# into the JSON structure that will be returned\n",
    "#url = 'https://data.nasdaq.com/api/v3/datasets/FSE/AFX_X.json?api_key=' + API_KEY \n",
    "url = 'https://data.nasdaq.com/api/v3/datasets/FSE/AFX_X.json?start_date=2017-01-01&end_date=2017-12-31&api_key=' + API_KEY \n",
    "r = requests.get(url)\n",
    "json_data = r.json()"
   ]
  },
  {
   "cell_type": "markdown",
   "metadata": {},
   "source": [
    "Note: API's can change a bit with each version, for this exercise it is reccomended to use the nasdaq api at `https://data.nasdaq.com/api/v3/`. This is the same api as what used to be quandl so `https://www.quandl.com/api/v3/` should work too.\n",
    "\n",
    "Hint: We are looking for the `AFX_X` data on the `datasets/FSE/` dataset."
   ]
  },
  {
   "cell_type": "code",
   "execution_count": 5,
   "metadata": {},
   "outputs": [
    {
     "name": "stdout",
     "output_type": "stream",
     "text": [
      "dict_keys(['id', 'dataset_code', 'database_code', 'name', 'description', 'refreshed_at', 'newest_available_date', 'oldest_available_date', 'column_names', 'frequency', 'type', 'premium', 'limit', 'transform', 'column_index', 'start_date', 'end_date', 'data', 'collapse', 'order', 'database_id'])\n"
     ]
    }
   ],
   "source": [
    "print(json_data[\"dataset\"].keys())"
   ]
  },
  {
   "cell_type": "code",
   "execution_count": 20,
   "metadata": {},
   "outputs": [
    {
     "name": "stdout",
     "output_type": "stream",
     "text": [
      "<class 'dict'>\n",
      "AFX_X\n",
      "FSE\n",
      "Carl Zeiss Meditec (AFX_X)\n",
      "2020-12-01 2017-12-31\n",
      "2000-06-07 2017-01-01\n",
      "None\n",
      "None\n",
      "None\n",
      "None\n",
      "255\n"
     ]
    }
   ],
   "source": [
    "print(type(json_data))\n",
    "print(json_data[\"dataset\"][\"dataset_code\"])\n",
    "print(json_data[\"dataset\"][\"database_code\"])\n",
    "print(json_data[\"dataset\"][\"name\"])\n",
    "print(json_data[\"dataset\"][\"newest_available_date\"],json_data[\"dataset\"][\"end_date\"]) \n",
    "print(json_data[\"dataset\"][\"oldest_available_date\"],json_data[\"dataset\"][\"start_date\"])\n",
    "print(json_data[\"dataset\"][\"limit\"])\n",
    "print(json_data[\"dataset\"][\"column_index\"])\n",
    "print(json_data[\"dataset\"][\"collapse\"])\n",
    "print(json_data[\"dataset\"][\"order\"])\n",
    "print(len(json_data[\"dataset\"][\"data\"]))\n"
   ]
  },
  {
   "cell_type": "code",
   "execution_count": 7,
   "metadata": {},
   "outputs": [
    {
     "name": "stdout",
     "output_type": "stream",
     "text": [
      "['Date', 'Open', 'High', 'Low', 'Close', 'Change', 'Traded Volume', 'Turnover', 'Last Price of the Day', 'Daily Traded Units', 'Daily Turnover']\n"
     ]
    }
   ],
   "source": [
    "print(json_data[\"dataset\"][\"column_names\"])"
   ]
  },
  {
   "cell_type": "code",
   "execution_count": 8,
   "metadata": {},
   "outputs": [
    {
     "name": "stdout",
     "output_type": "stream",
     "text": [
      "['2017-12-29', 51.76, 51.94, 51.45, 51.76, None, 34640.0, 1792304.0, None, None, None]\n"
     ]
    }
   ],
   "source": [
    "print(json_data[\"dataset\"][\"data\"][0])"
   ]
  },
  {
   "cell_type": "code",
   "execution_count": null,
   "metadata": {},
   "outputs": [],
   "source": [
    "# Inspect the JSON structure of the object you created, and take note of how nested it is,\n",
    "# as well as the overall structure"
   ]
  },
  {
   "cell_type": "markdown",
   "metadata": {},
   "source": [
    "These are your tasks for this mini project:\n",
    "\n",
    "1. Collect data from the Franfurt Stock Exchange, for the ticker AFX_X, for the whole year 2017 (keep in mind that the date format is YYYY-MM-DD).\n",
    "2. Convert the returned JSON object into a Python dictionary.\n",
    "3. Calculate what the highest and lowest opening prices were for the stock in this period.\n",
    "4. What was the largest change in any one day (based on High and Low price)?\n",
    "5. What was the largest change between any two days (based on Closing Price)?\n",
    "6. What was the average daily trading volume during this year?\n",
    "7. (Optional) What was the median trading volume during this year. (Note: you may need to implement your own function for calculating the median.)"
   ]
  },
  {
   "cell_type": "code",
   "execution_count": 21,
   "metadata": {},
   "outputs": [
    {
     "name": "stdout",
     "output_type": "stream",
     "text": [
      "['Date', 'Open', 'High', 'Low', 'Close', 'Change', 'Traded Volume', 'Turnover', 'Last Price of the Day', 'Daily Traded Units', 'Daily Turnover']\n"
     ]
    }
   ],
   "source": [
    "#Extract column names \n",
    "column_names_list = json_data[\"dataset\"][\"column_names\"]\n",
    "print(column_names_list)"
   ]
  },
  {
   "cell_type": "code",
   "execution_count": 10,
   "metadata": {},
   "outputs": [
    {
     "name": "stdout",
     "output_type": "stream",
     "text": [
      "['2017-12-29', 51.76, 51.94, 51.45, 51.76, None, 34640.0, 1792304.0, None, None, None]\n",
      "['2017-12-28', 51.65, 51.82, 51.43, 51.6, None, 40660.0, 2099024.0, None, None, None]\n"
     ]
    }
   ],
   "source": [
    "#??? \n",
    "temp01 = json_data[\"dataset\"][\"data\"][0]\n",
    "temp02 = json_data[\"dataset\"][\"data\"][1]\n",
    "\n",
    "print(temp01)\n",
    "print(temp02)"
   ]
  },
  {
   "cell_type": "code",
   "execution_count": 73,
   "metadata": {},
   "outputs": [],
   "source": [
    "#2 Convert returned JSON object into Python dictionary \n",
    "nested_dict= {}\n",
    "\n",
    "categories = ['Open','High','Low','Close','Traded Volume']\n",
    "\n",
    "for category in categories:\n",
    "    nested_dict[category] = {}\n",
    "    \n",
    "#print(temp_dict)\n",
    "\n",
    "for t in range(len(json_data[\"dataset\"][\"data\"])):\n",
    "#for t in range(3):\n",
    "    hold_data = json_data[\"dataset\"][\"data\"][t]\n",
    "    #print(t, hold_data)\n",
    "    \n",
    "    for category in categories:\n",
    "        #print(category)\n",
    "        \n",
    "        if category == 'Open':\n",
    "            nested_dict[category][hold_data[0]] =  hold_data[1]\n",
    "        elif category == 'High':\n",
    "            nested_dict[category][hold_data[0]] =  hold_data[2]\n",
    "        elif category == 'Low':\n",
    "            nested_dict[category][hold_data[0]] =  hold_data[3]\n",
    "        elif category == 'Close':\n",
    "            nested_dict[category][hold_data[0]] =  hold_data[4]\n",
    "        elif category == 'Traded Volume':\n",
    "            nested_dict[category][hold_data[0]] =  hold_data[6]"
   ]
  },
  {
   "cell_type": "code",
   "execution_count": 96,
   "metadata": {},
   "outputs": [
    {
     "name": "stdout",
     "output_type": "stream",
     "text": [
      "Highest opening price for 2017:  53.11\n",
      "Lowest opening price for 2017 :  34.0\n"
     ]
    }
   ],
   "source": [
    "#3 Calculate what the highest & lowest opening prices were for 2017 \n",
    "stock_open = list(nested_dict['Open'].values())\n",
    "\n",
    "#remove None values \n",
    "stock_open_cleaned = [i for i in stock_open if i is not None]\n",
    "#print(len(stock_open),len(stock_open_cleaned))\n",
    "\n",
    "stock_open_max = max(stock_open_cleaned)\n",
    "stock_open_min = min(stock_open_cleaned)\n",
    "\n",
    "#print('')\n",
    "print('Highest opening price for 2017: ',stock_open_max)\n",
    "print('Lowest opening price for 2017 : ',stock_open_min)"
   ]
  },
  {
   "cell_type": "code",
   "execution_count": 92,
   "metadata": {},
   "outputs": [
    {
     "name": "stdout",
     "output_type": "stream",
     "text": [
      "Largest change in any one day for 2017:  2.81\n"
     ]
    }
   ],
   "source": [
    "#4 What was the largest change in any one day (based on High & Low price)?\n",
    "stock_high = list(nested_dict['High'].values()) \n",
    "stock_low = list(nested_dict['Low'].values())\n",
    "\n",
    "stock_change = []\n",
    "for i in range(len(stock_high)):\n",
    "    \n",
    "    change = stock_high[i] - stock_low[i]\n",
    "    stock_change.append(change)\n",
    "\n",
    "stock_change_max = max(stock_change)\n",
    "\n",
    "print('Largest change in any one day for 2017: ',round(stock_change_max,2))"
   ]
  },
  {
   "cell_type": "code",
   "execution_count": 93,
   "metadata": {},
   "outputs": [
    {
     "name": "stdout",
     "output_type": "stream",
     "text": [
      "Largest change between two days for 2017:  -2.56\n"
     ]
    }
   ],
   "source": [
    "#5 What was the largest change between any two days (based on closing price)?\n",
    "stock_close = list(nested_dict['Close'].values())\n",
    "\n",
    "stock_change_close = []\n",
    "for day in range(len(stock_close)-1):\n",
    "    \n",
    "    day_next = day + 1 \n",
    "    \n",
    "    if stock_close[day] is not None and stock_close[day_next] is not None:\n",
    "        \n",
    "        change_close = stock_close[day] - stock_close[day_next]\n",
    "        \n",
    "        stock_change_close.append(change_close)\n",
    "        \n",
    "stock_change_close_max = max(stock_change_close)\n",
    "stock_change_close_min = min(stock_change_close)\n",
    "\n",
    "if stock_change_close_max == stock_change_close_min:\n",
    "    print('Largest change between two days for 2017: ', round(stock_change_close_max,2))\n",
    "elif abs(stock_change_close_max) > abs(stock_change_close_min):\n",
    "    print('Largest change between two days for 2017: ', round(stock_change_close_max,2))\n",
    "elif abs(stock_change_close_max) < abs(stock_change_close_min):\n",
    "     print('Largest change between two days for 2017: ', round(stock_change_close_min,2))\n",
    "        "
   ]
  },
  {
   "cell_type": "code",
   "execution_count": 95,
   "metadata": {},
   "outputs": [
    {
     "name": "stdout",
     "output_type": "stream",
     "text": [
      "Average daily trading volume for 2017:  89124.34\n"
     ]
    }
   ],
   "source": [
    "#6 What was the average daily trading volume during 2017\n",
    "stock_volume = list(nested_dict['Traded Volume'].values())\n",
    "\n",
    "#remove None values \n",
    "stock_volume_cleaned = [i for i in stock_volume if i is not None]\n",
    "#print(len(stock_volume),len(stock_volume_cleaned))\n",
    "\n",
    "stock_volume_average = sum(stock_volume_cleaned)/len(stock_volume_cleaned)\n",
    "\n",
    "#print('')\n",
    "print('Average daily trading volume for 2017: ',round(stock_volume_average,2))"
   ]
  },
  {
   "cell_type": "code",
   "execution_count": null,
   "metadata": {},
   "outputs": [],
   "source": []
  }
 ],
 "metadata": {
  "interpreter": {
   "hash": "7635eb1b9d0fe97add78a7368b6b431c09bb8ad5c42e437d64abdd99821c31ae"
  },
  "kernelspec": {
   "display_name": "Python 3 (ipykernel)",
   "language": "python",
   "name": "python3"
  },
  "language_info": {
   "codemirror_mode": {
    "name": "ipython",
    "version": 3
   },
   "file_extension": ".py",
   "mimetype": "text/x-python",
   "name": "python",
   "nbconvert_exporter": "python",
   "pygments_lexer": "ipython3",
   "version": "3.11.4"
  }
 },
 "nbformat": 4,
 "nbformat_minor": 4
}
